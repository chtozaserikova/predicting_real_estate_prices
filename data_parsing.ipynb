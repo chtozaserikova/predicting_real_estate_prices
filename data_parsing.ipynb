{
 "cells": [
  {
   "cell_type": "code",
   "execution_count": null,
   "metadata": {},
   "outputs": [],
   "source": [
    "from selenium import webdriver\n",
    "from bs4 import BeautifulSoup\n",
    "import pandas as pd\n",
    "from tqdm import tqdm\n",
    "import numpy as np\n",
    "import pandas as pd\n",
    "import json\n",
    "import requests\n",
    "import csv\n",
    "from selenium.webdriver.chrome.options import Options\n",
    "from webdriver_manager.chrome import ChromeDriverManager\n",
    "from selenium.webdriver.chrome.service import Service\n",
    "from time import sleep\n",
    "\n",
    "driver = webdriver.Chrome(ChromeDriverManager().install())"
   ]
  },
  {
   "cell_type": "code",
   "execution_count": 2,
   "metadata": {},
   "outputs": [],
   "source": [
    "from parser import CianParser, AvitoParser"
   ]
  },
  {
   "cell_type": "code",
   "execution_count": null,
   "metadata": {},
   "outputs": [],
   "source": [
    "urls = CianParser.get_urls(driver)\n",
    "prices, metro, size, msize, floor, max_floor, deadline, bathroom, renovation, time = CianParser.get_data(driver, urls)"
   ]
  },
  {
   "cell_type": "code",
   "execution_count": 87,
   "metadata": {},
   "outputs": [],
   "source": [
    "df = pd.DataFrame({ \n",
    "    'Ссылка' : urls, \n",
    "    'Метро' : metro, \n",
    "    'Время до метро' : time,\n",
    "    'Общая площадь' : size, \n",
    "    'Жилая площадь' : msize, \n",
    "    'Этаж' : floor,\n",
    "    'Этажность дома' : max_floor,\n",
    "    'Срок сдачи' : deadline,\n",
    "    'Ванная' : bathroom,\n",
    "    'Ремонт': renovation,\n",
    "    'Цена' : prices\n",
    "    })"
   ]
  },
  {
   "cell_type": "code",
   "execution_count": 88,
   "metadata": {},
   "outputs": [],
   "source": [
    "df.to_csv('cian.csv')"
   ]
  },
  {
   "cell_type": "markdown",
   "metadata": {},
   "source": [
    "# AVITO"
   ]
  },
  {
   "cell_type": "code",
   "execution_count": null,
   "metadata": {},
   "outputs": [],
   "source": [
    "urls_avito = AvitoParser.get_urls_avito(driver)\n",
    "prices, metro, size, floor, max_floor, bathroom, renovation, time = AvitoParser.get_data_avito(driver, urls_avito)"
   ]
  },
  {
   "cell_type": "code",
   "execution_count": null,
   "metadata": {},
   "outputs": [],
   "source": [
    "df_avito = pd.DataFrame({ \n",
    "    'Ссылка' : urls,\n",
    "    'Метро' : metro, \n",
    "    'Время до метро' : time,\n",
    "    'Общая площадь' : size, \n",
    "    'Этаж' : floor,\n",
    "    'Этажность дома' : max_floor,\n",
    "    'Ванная' : bathroom,\n",
    "    'Ремонт': renovation,\n",
    "    'Цена' : prices\n",
    "    })\n",
    "\n",
    "df.to_csv('avito.csv')"
   ]
  }
 ],
 "metadata": {
  "kernelspec": {
   "display_name": "env",
   "language": "python",
   "name": "python3"
  },
  "language_info": {
   "codemirror_mode": {
    "name": "ipython",
    "version": 3
   },
   "file_extension": ".py",
   "mimetype": "text/x-python",
   "name": "python",
   "nbconvert_exporter": "python",
   "pygments_lexer": "ipython3",
   "version": "3.10.5"
  },
  "orig_nbformat": 4,
  "vscode": {
   "interpreter": {
    "hash": "bcd1b109ab7924efc8418e8b009d4471f487e05617cd0a33e1c32dde2ae80f29"
   }
  }
 },
 "nbformat": 4,
 "nbformat_minor": 2
}
