{
 "cells": [
  {
   "cell_type": "code",
   "execution_count": 65,
   "metadata": {},
   "outputs": [
    {
     "name": "stderr",
     "output_type": "stream",
     "text": [
      "ERROR: Could not find a version that satisfies the requirement chromium (from versions: none)\n",
      "ERROR: No matching distribution found for chromium\n",
      "WARNING: You are using pip version 22.0.4; however, version 22.2.2 is available.\n",
      "You should consider upgrading via the 'C:\\Users\\Sveta\\projects\\недвижка парсер\\env\\Scripts\\python.exe -m pip install --upgrade pip' command.\n"
     ]
    },
    {
     "name": "stdout",
     "output_type": "stream",
     "text": [
      "Collecting chromedriver_autoinstaller\n",
      "  Downloading chromedriver_autoinstaller-0.4.0-py3-none-any.whl (6.5 kB)\n",
      "Installing collected packages: chromedriver_autoinstaller\n",
      "Successfully installed chromedriver_autoinstaller-0.4.0\n"
     ]
    },
    {
     "name": "stderr",
     "output_type": "stream",
     "text": [
      "WARNING: You are using pip version 22.0.4; however, version 22.2.2 is available.\n",
      "You should consider upgrading via the 'C:\\Users\\Sveta\\projects\\недвижка парсер\\env\\Scripts\\python.exe -m pip install --upgrade pip' command.\n"
     ]
    }
   ],
   "source": [
    "!pip install chromium\n",
    "!pip install chromedriver_autoinstaller"
   ]
  },
  {
   "cell_type": "code",
   "execution_count": 69,
   "metadata": {},
   "outputs": [
    {
     "name": "stderr",
     "output_type": "stream",
     "text": [
      "C:\\Users\\Sveta\\AppData\\Local\\Temp\\ipykernel_10904\\2674266449.py:16: DeprecationWarning: executable_path has been deprecated, please pass in a Service object\n",
      "  driver = webdriver.Chrome(options = options, executable_path='chromedriver.exe')\n"
     ]
    }
   ],
   "source": [
    "from selenium import webdriver\n",
    "from bs4 import BeautifulSoup\n",
    "import pandas as pd\n",
    "from tqdm import tqdm\n",
    "import numpy as np\n",
    "import requests\n",
    "import csv\n",
    "from selenium.webdriver.chrome.options import Options\n",
    "from webdriver_manager.chrome import ChromeDriverManager\n",
    "from selenium.webdriver.chrome.service import Service\n",
    "from time import sleep\n",
    "\n",
    "options = Options()\n",
    "options.binary_location = r\"C:\\Program Files\\Google\\Chrome Beta\\Application\\chrome.exe\"\n",
    "# chrome = webdriver.Chrome(ChromeDriverManager().install(), options=options)\n",
    "driver = webdriver.Chrome(options = options, executable_path='chromedriver.exe')"
   ]
  },
  {
   "cell_type": "code",
   "execution_count": 16,
   "metadata": {},
   "outputs": [],
   "source": [
    "def get_html(url, PARAMS = None): \n",
    "    html = driver.page_source\n",
    "    return html\n",
    "\n",
    "def get_content(html): \n",
    "    soup = BeautifulSoup(html, 'html.parser')\n",
    "    items = soup.find_all('article', class_ = '_93444fe79c--container--Povoi')\n",
    "    return items\n",
    "    \n",
    "def get_urls():   \n",
    "    urls = []\n",
    "    params = ['&sort=creation_date_desc', \n",
    "              '&sort=creation_date_asc', \n",
    "              '&sort=price_object_order', \n",
    "              '&sort=total_price_desc', \n",
    "              '&sort=street_name', \n",
    "              '&sort=walking_time']\n",
    "    \n",
    "    for par in tqdm(range(len(params))):\n",
    "        param = params[par] \n",
    "        for i in range(1,55): \n",
    "            URL = driver.get(f'https://www.cian.ru/cat.php?deal_type=rent&engine_version=2&offer_type=flat&p={i}&region=1&room1=1&{param}&type=4')\n",
    "            html = get_html(URL)\n",
    "            items = get_content(html)\n",
    "            for item in items:\n",
    "                urls.append(item.find('a', class_='_93444fe79c--link--eoxce').get('href'))\n",
    "        urls = list(set(urls))\n",
    "    return urls"
   ]
  },
  {
   "cell_type": "code",
   "execution_count": 5,
   "metadata": {},
   "outputs": [],
   "source": [
    "def get_data(urls): \n",
    "    prices, metro, floor, max_floor, size, msize, deadline, bathroom, renovation, time = [], [], [], [], [], [], [], [], [], []\n",
    "    for i in tqdm(range(len(urls))):\n",
    "        url = urls[i]\n",
    "        driver.set_page_load_timeout(0.8)\n",
    "        URL = driver.get(url)\n",
    "        html = get_html(URL)\n",
    "        soup = BeautifulSoup(html, 'html.parser')\n",
    "        try: \n",
    "            price = soup.find('span', class_ = \"a10a3f92e9--price_value--lqIK0\").find('span').get('content')\n",
    "            prices.append(int(price.replace(' ', '').rstrip('₽/мес.')))\n",
    "        except AttributeError: prices.append(np.nan)\n",
    "            \n",
    "        try: metro.append(soup.find('a', class_ = 'a10a3f92e9--underground_link--Sxo7K').get_text())\n",
    "        except AttributeError: metro.append(np.nan)\n",
    "           \n",
    "        try: time.append(int(soup.find('span', class_ = 'a10a3f92e9--underground_time--iOoHy').get_text()[4:6]))\n",
    "        except AttributeError: time.append(np.nan)\n",
    "        except ValueError: time.append(np.nan)\n",
    "         \n",
    "        block1 = soup.find_all('div', class_ = 'a10a3f92e9--info-value--bm3DC')\n",
    "        titles1 = soup.find_all('div', class_ = 'a10a3f92e9--info-title--JWtIm')\n",
    "        \n",
    "        flag = [0,0,0,0]\n",
    "        for i in range(len(titles1)):\n",
    "            if titles1[i].get_text() == 'Общая':\n",
    "                flag[0] = 1\n",
    "                try: size.append(float(block1[i].get_text().rstrip('\\xa0м²').replace(',','.')))\n",
    "                except ValueError: size.append(np.nan)\n",
    "            elif titles1[i].get_text() == 'Жилая':\n",
    "                flag[1] = 1\n",
    "                try: msize.append(float(block1[i].get_text().rstrip('\\xa0м²').replace(',','.')))\n",
    "                except ValueError: msize.append(np.nan)\n",
    "            elif titles1[i].get_text() == 'Этаж':\n",
    "                flag[2] = 1\n",
    "                floors = block1[i].get_text().split(' из ')\n",
    "                floor.append(int(floors[0]))\n",
    "                max_floor.append(int(floors[1]))\n",
    "            elif titles1[i].get_text() == 'Построен' or titles1[i].get_text() == 'Срок сдачи':\n",
    "                flag[3] = 1\n",
    "                deadline.append(int(block1[i].get_text()[-4:]))\n",
    "        if flag[0] == 0:\n",
    "            size.append(np.nan)\n",
    "        if flag[1] == 0:\n",
    "             msize.append(np.nan)\n",
    "        if flag[2] == 0:\n",
    "            floor.append(np.nan)\n",
    "            max_floor.append(np.nan)\n",
    "        if flag[3] == 0:\n",
    "            deadline.append(np.nan)\n",
    "\n",
    "        block2 = soup.find_all('span', class_ = 'a10a3f92e9--value--Y34zN')\n",
    "        titles2 = soup.find_all('span', class_ = 'a10a3f92e9--name--x7_lt')\n",
    "\n",
    "        flag = [0,0,0,0]\n",
    "        for i in range(len(titles2)):\n",
    "            if titles2[i].get_text() == 'Санузел':\n",
    "                flag[0] = 1\n",
    "                bathroom.append(block2[i].get_text())\n",
    "            elif titles2[i].get_text() == 'Ремонт':\n",
    "                flag[1] = 1\n",
    "                renovation.append(block2[i].get_text())\n",
    "        if flag[0] == 0:\n",
    "            bathroom.append(np.nan)\n",
    "        if flag[1] == 0:\n",
    "            renovation.append(np.nan)\n",
    "            \n",
    "        \n",
    "    return prices, metro, size, msize, floor, max_floor, deadline, bathroom, renovation, time"
   ]
  },
  {
   "cell_type": "code",
   "execution_count": null,
   "metadata": {},
   "outputs": [],
   "source": [
    "urls = get_urls()\n",
    "prices, metro, size, msize, floor, max_floor, deadline, bathroom, renovation, time = get_data(urls)"
   ]
  },
  {
   "cell_type": "code",
   "execution_count": 87,
   "metadata": {},
   "outputs": [],
   "source": [
    "df = pd.DataFrame({ \n",
    "    'Ссылка' : urls, \n",
    "    'Метро' : metro, \n",
    "    'Время до метро' : time,\n",
    "    'Общая площадь' : size, \n",
    "    'Жилая площадь' : msize, \n",
    "    'Этаж' : floor,\n",
    "    'Этажность дома' : max_floor,\n",
    "    'Срок сдачи' : deadline,\n",
    "    'Ванная' : bathroom,\n",
    "    'Ремонт': renovation,\n",
    "    'Цена' : prices\n",
    "    })"
   ]
  },
  {
   "cell_type": "code",
   "execution_count": 88,
   "metadata": {},
   "outputs": [],
   "source": [
    "df.to_csv('cian.csv')"
   ]
  },
  {
   "cell_type": "markdown",
   "metadata": {},
   "source": [
    "# AVITO"
   ]
  },
  {
   "cell_type": "code",
   "execution_count": 50,
   "metadata": {},
   "outputs": [],
   "source": [
    "def get_content_avito(html): \n",
    "    soup = BeautifulSoup(html, 'html.parser')\n",
    "    items = soup.find_all('div', class_ = 'iva-item-content-rejJg')\n",
    "    return items\n",
    "    \n",
    "def get_urls_avito():   \n",
    "    urls = []\n",
    "    for i in range(100,101): \n",
    "        URL = driver.get(f'https://www.avito.ru/moskva/kvartiry/sdam/na_dlitelnyy_srok-ASgBAgICAkSSA8gQ8AeQUg?f=ASgBAgECAkSSA8gQ8AeQUgFFxpoMFXsiZnJvbSI6MCwidG8iOjYwMDAwfQ&p={i}')\n",
    "        html = get_html(URL)\n",
    "        items = get_content_avito(html)\n",
    "        for item in items:\n",
    "            urls.append(item.find('a', class_='iva-item-sliderLink-uLz1v').get('href'))\n",
    "        urls = list(set(urls))\n",
    "    return urls"
   ]
  },
  {
   "cell_type": "code",
   "execution_count": 51,
   "metadata": {},
   "outputs": [
    {
     "data": {
      "text/plain": [
       "['/moskva/kvartiry/1-k._kvartira_35m_1012et._1625365412',\n",
       " '/moskva/kvartiry/1-k._kvartira_40m_1325et._2524972062',\n",
       " '/moskva/kvartiry/2-k._kvartira_53m_614et._2504567626',\n",
       " '/moskva/kvartiry/1-k._kvartira_331m_49et._2412522443',\n",
       " '/moskva/kvartiry/3-k._kvartira_68m_1117et._2504434527',\n",
       " '/moskva/kvartiry/1-k._kvartira_35m_25et._2324797358',\n",
       " '/moskva/kvartiry/2-k._kvartira_60m_1525et._2481342088',\n",
       " '/moskva/kvartiry/1-k._kvartira_40m_617et._2513744405',\n",
       " '/moskva/kvartiry/2-k._kvartira_74m_1118et._2527086931',\n",
       " '/moskva/kvartiry/2-k._kvartira_54m_1718et._2392099661',\n",
       " '/moskva/kvartiry/1-k._kvartira_43m_1222et._2522338799',\n",
       " '/moskva/kvartiry/2-k._kvartira_445m_1414et._2523602844',\n",
       " '/moskva/kvartiry/3-k._kvartira_60m_45et._1868108346',\n",
       " '/moskva/kvartiry/1-k._kvartira_47m_1014et._2481282616',\n",
       " '/moskva/kvartiry/1-k._kvartira_38m_517et._2512459861',\n",
       " '/moskva/kvartiry/3-k._kvartira_63m_1012et._2129022372',\n",
       " '/moskva/kvartiry/2-k._kvartira_578m_1223et._2449216930',\n",
       " '/moskva/kvartiry/3-k._kvartira_60m_25et._2475655638',\n",
       " '/moskva/kvartiry/1-k._kvartira_36m_1016et._2521086798',\n",
       " '/moskva/kvartiry/1-k._kvartira_37m_716et._2530535841',\n",
       " '/moskva/kvartiry/3-k._kvartira_72m_812et._2513264599',\n",
       " '/moskva/kvartiry/2-k._kvartira_58m_1717et._2449478030',\n",
       " '/moskva/kvartiry/1-k._kvartira_341m_1012et._2492084025',\n",
       " '/moskva/kvartiry/3-k._kvartira_70m_2022et._2449532991',\n",
       " '/moskva/kvartiry/2-k._kvartira_75m_616et._2335180443',\n",
       " '/moskva/kvartiry/3-k._kvartira_76m_122et._2212374000',\n",
       " '/moskva/kvartiry/1-k._kvartira_45m_1212et._2513357298',\n",
       " '/moskva/kvartiry/1-k._kvartira_38m_1117et._812771367',\n",
       " '/moskva/kvartiry/2-k._kvartira_374m_1014et._2524879442',\n",
       " '/moskva/kvartiry/2-k._kvartira_48m_312et._2508496282',\n",
       " '/moskva/kvartiry/1-k._kvartira_38m_322et._2513471362',\n",
       " '/moskva/kvartiry/1-k._kvartira_38m_13et._2488844252',\n",
       " '/moskva/kvartiry/2-k._kvartira_54m_1218et._2407447532',\n",
       " '/moskva/kvartiry/2-k._kvartira_60m_1617et._2234700718',\n",
       " '/moskva/kvartiry/kvartira-studiya_12m_714et._2342627322',\n",
       " '/moskva/kvartiry/1-k._kvartira_35m_316et._2264317425',\n",
       " '/moskva/kvartiry/1-k._apartamenty_20m_710et._2353359910',\n",
       " '/moskva/kvartiry/1-k._kvartira_42m_1125et._2503142687',\n",
       " '/moskva/kvartiry/1-k._kvartira_395m_1717et._2519676365',\n",
       " '/moskva/kvartiry/2-k._kvartira_44m_89et._2449881737',\n",
       " '/moskva/kvartiry/1-k._kvartira_37m_810et._2513427215',\n",
       " '/moskva/kvartiry/3-k._kvartira_90m_68et._2514040051',\n",
       " '/moskva/kvartiry/2-k._kvartira_46m_79et._2296124953',\n",
       " '/moskva/kvartiry/1-k._kvartira_33m_39et._2521419943',\n",
       " '/moskva/kvartiry/3-k._kvartira_80m_22et._2464036251',\n",
       " '/moskva/kvartiry/2-k._kvartira_54m_516et._1363470196',\n",
       " '/moskva/kvartiry/1-k._kvartira_44m_519et._2540687152',\n",
       " '/moskva/kvartiry/3-k._kvartira_70m_1217et._2011260703',\n",
       " '/moskva/kvartiry/2-k._kvartira_517m_614et._2362877052',\n",
       " '/moskva/kvartiry/2-k._kvartira_47m_1014et._1694660386']"
      ]
     },
     "execution_count": 51,
     "metadata": {},
     "output_type": "execute_result"
    }
   ],
   "source": [
    "urls_avito = get_urls_avito()\n",
    "urls_avito"
   ]
  },
  {
   "cell_type": "code",
   "execution_count": 52,
   "metadata": {},
   "outputs": [
    {
     "data": {
      "text/plain": [
       "50"
      ]
     },
     "execution_count": 52,
     "metadata": {},
     "output_type": "execute_result"
    }
   ],
   "source": [
    "len(urls_avito)"
   ]
  },
  {
   "cell_type": "code",
   "execution_count": 60,
   "metadata": {},
   "outputs": [],
   "source": [
    "def get_data_avito(urls): \n",
    "    prices, metro, floor, max_floor, size, bathroom, renovation, time = [], [], [], [], [], [], [], []\n",
    "    for i in tqdm(range(len(urls))):\n",
    "        url = urls[i]\n",
    "        URL = driver.get(url)\n",
    "        sleep(5)\n",
    "        html = get_html(URL)\n",
    "        soup = BeautifulSoup(html, 'html.parser')\n",
    "        try: \n",
    "            price = soup.find('span', class_ = \"js-item-price style-item-price-text-2u_qK text-text-1PdBw text-size-xxl-1Uoae\").find('span').get('content')\n",
    "            prices.append(int(price.replace(' ', '').rstrip('₽/мес.')))\n",
    "        except AttributeError: prices.append(np.nan)\n",
    "            \n",
    "        try: metro.append(soup.find('a', class_ = 'style-item-address-georeferences-item-18pFt').get_text())\n",
    "        # 'geo-georeferences-Yd_m5 text-text-LurtD text-size-s-BxGpL'\n",
    "        except AttributeError: metro.append(np.nan)\n",
    "           \n",
    "        try: time.append(int(soup.find('span', class_ = 'style-item-address-georeferences-item-interval-izti5').get_text()[4:6]))\n",
    "        except AttributeError: time.append(np.nan)\n",
    "        except ValueError: time.append(np.nan)\n",
    "         \n",
    "        block1 = soup.find_all('text')\n",
    "        titles1 = soup.find_all('span', class_ = 'css-1r29yiv')\n",
    "        \n",
    "        flag = [0,0,0,0]\n",
    "        for i in range(len(titles1)):\n",
    "            if titles1[i].get_text() == 'Общая':\n",
    "                flag[0] = 1\n",
    "                try: size.append(float(block1[i].get_text().rstrip('\\xa0м²').replace(',','.')))\n",
    "                except ValueError: size.append(np.nan)\n",
    "            elif titles1[i].get_text() == 'Этаж':\n",
    "                flag[1] = 1\n",
    "                floors = block1[i].get_text().split(' из ')\n",
    "                floor.append(int(floors[0]))\n",
    "                max_floor.append(int(floors[1]))\n",
    "        if flag[0] == 0:\n",
    "            size.append(np.nan)\n",
    "        if flag[1] == 0:\n",
    "            max_floor.append(np.nan)\n",
    "\n",
    "        block2 = soup.find_all('text')\n",
    "        titles2 = soup.find_all('span', class_ = 'css-1r29yiv')\n",
    "\n",
    "        flag = [0,0,0,0]\n",
    "        for i in range(len(titles2)):\n",
    "            if titles2[i].get_text() == 'Санузел':\n",
    "                flag[0] = 1\n",
    "                bathroom.append(block2[i].get_text())\n",
    "            elif titles2[i].get_text() == 'Ремонт':\n",
    "                flag[1] = 1\n",
    "                renovation.append(block2[i].get_text())\n",
    "        if flag[0] == 0:\n",
    "            bathroom.append(np.nan)\n",
    "        if flag[1] == 0:\n",
    "            renovation.append(np.nan)\n",
    "        driver.switch_to.window(driver.window_handles[1])\n",
    "        \n",
    "    return prices, metro, size, floor, max_floor, bathroom, renovation, time"
   ]
  },
  {
   "cell_type": "code",
   "execution_count": 71,
   "metadata": {},
   "outputs": [],
   "source": [
    "if __name__ == 'get_data_avito':\n",
    "    try:\n",
    "        service = Service(executable_path=ChromeDriverManager().install())\n",
    "        driver = webdriver.Chrome(service=service)\n",
    "        prices, metro, size, floor, max_floor, bathroom, renovation, time = get_data_avito(urls_avito)\n",
    "    except Exception as e:\n",
    "        print(e)\n",
    "    finally:\n",
    "        driver.quit()"
   ]
  },
  {
   "cell_type": "code",
   "execution_count": 70,
   "metadata": {},
   "outputs": [
    {
     "name": "stderr",
     "output_type": "stream",
     "text": [
      "  0%|          | 0/50 [00:00<?, ?it/s]\n"
     ]
    },
    {
     "ename": "InvalidArgumentException",
     "evalue": "Message: invalid argument\n  (Session info: chrome=105.0.5195.52)\nStacktrace:\nBacktrace:\n\tOrdinal0 [0x00F78823+2197539]\n\tOrdinal0 [0x00F10911+1771793]\n\tOrdinal0 [0x00E23EB0+802480]\n\tOrdinal0 [0x00E173C6+750534]\n\tOrdinal0 [0x00E15ED5+745173]\n\tOrdinal0 [0x00E1619D+745885]\n\tOrdinal0 [0x00E257B4+808884]\n\tOrdinal0 [0x00E7E12D+1171757]\n\tOrdinal0 [0x00E6D65C+1103452]\n\tOrdinal0 [0x00E7DA72+1170034]\n\tOrdinal0 [0x00E6D476+1102966]\n\tOrdinal0 [0x00E47660+947808]\n\tOrdinal0 [0x00E48556+951638]\n\tGetHandleVerifier [0x01221A32+2740578]\n\tGetHandleVerifier [0x01213776+2682534]\n\tGetHandleVerifier [0x0100307A+518058]\n\tGetHandleVerifier [0x01002196+514246]\n\tOrdinal0 [0x00F17ADB+1800923]\n\tOrdinal0 [0x00F1C2E8+1819368]\n\tOrdinal0 [0x00F1C3D5+1819605]\n\tOrdinal0 [0x00F25810+1857552]\n\tBaseThreadInitThunk [0x76326739+25]\n\tRtlGetFullPathName_UEx [0x770F90AF+1215]\n\tRtlGetFullPathName_UEx [0x770F907D+1165]\n",
     "output_type": "error",
     "traceback": [
      "\u001b[1;31m---------------------------------------------------------------------------\u001b[0m",
      "\u001b[1;31mInvalidArgumentException\u001b[0m                  Traceback (most recent call last)",
      "\u001b[1;32mc:\\Users\\Sveta\\projects\\недвижка парсер\\parser.ipynb Ячейка 15\u001b[0m in \u001b[0;36m<cell line: 1>\u001b[1;34m()\u001b[0m\n\u001b[1;32m----> <a href='vscode-notebook-cell:/c%3A/Users/Sveta/projects/%D0%BD%D0%B5%D0%B4%D0%B2%D0%B8%D0%B6%D0%BA%D0%B0%20%D0%BF%D0%B0%D1%80%D1%81%D0%B5%D1%80/parser.ipynb#X16sZmlsZQ%3D%3D?line=0'>1</a>\u001b[0m prices, metro, size, floor, max_floor, bathroom, renovation, time \u001b[39m=\u001b[39m get_data_avito(urls_avito)\n",
      "\u001b[1;32mc:\\Users\\Sveta\\projects\\недвижка парсер\\parser.ipynb Ячейка 15\u001b[0m in \u001b[0;36mget_data_avito\u001b[1;34m(urls)\u001b[0m\n\u001b[0;32m      <a href='vscode-notebook-cell:/c%3A/Users/Sveta/projects/%D0%BD%D0%B5%D0%B4%D0%B2%D0%B8%D0%B6%D0%BA%D0%B0%20%D0%BF%D0%B0%D1%80%D1%81%D0%B5%D1%80/parser.ipynb#X16sZmlsZQ%3D%3D?line=2'>3</a>\u001b[0m \u001b[39mfor\u001b[39;00m i \u001b[39min\u001b[39;00m tqdm(\u001b[39mrange\u001b[39m(\u001b[39mlen\u001b[39m(urls))):\n\u001b[0;32m      <a href='vscode-notebook-cell:/c%3A/Users/Sveta/projects/%D0%BD%D0%B5%D0%B4%D0%B2%D0%B8%D0%B6%D0%BA%D0%B0%20%D0%BF%D0%B0%D1%80%D1%81%D0%B5%D1%80/parser.ipynb#X16sZmlsZQ%3D%3D?line=3'>4</a>\u001b[0m     url \u001b[39m=\u001b[39m urls[i]\n\u001b[1;32m----> <a href='vscode-notebook-cell:/c%3A/Users/Sveta/projects/%D0%BD%D0%B5%D0%B4%D0%B2%D0%B8%D0%B6%D0%BA%D0%B0%20%D0%BF%D0%B0%D1%80%D1%81%D0%B5%D1%80/parser.ipynb#X16sZmlsZQ%3D%3D?line=4'>5</a>\u001b[0m     URL \u001b[39m=\u001b[39m driver\u001b[39m.\u001b[39;49mget(url)\n\u001b[0;32m      <a href='vscode-notebook-cell:/c%3A/Users/Sveta/projects/%D0%BD%D0%B5%D0%B4%D0%B2%D0%B8%D0%B6%D0%BA%D0%B0%20%D0%BF%D0%B0%D1%80%D1%81%D0%B5%D1%80/parser.ipynb#X16sZmlsZQ%3D%3D?line=5'>6</a>\u001b[0m     sleep(\u001b[39m5\u001b[39m)\n\u001b[0;32m      <a href='vscode-notebook-cell:/c%3A/Users/Sveta/projects/%D0%BD%D0%B5%D0%B4%D0%B2%D0%B8%D0%B6%D0%BA%D0%B0%20%D0%BF%D0%B0%D1%80%D1%81%D0%B5%D1%80/parser.ipynb#X16sZmlsZQ%3D%3D?line=6'>7</a>\u001b[0m     html \u001b[39m=\u001b[39m get_html(URL)\n",
      "File \u001b[1;32mc:\\Users\\Sveta\\projects\\недвижка парсер\\env\\lib\\site-packages\\selenium\\webdriver\\remote\\webdriver.py:447\u001b[0m, in \u001b[0;36mWebDriver.get\u001b[1;34m(self, url)\u001b[0m\n\u001b[0;32m    443\u001b[0m \u001b[39mdef\u001b[39;00m \u001b[39mget\u001b[39m(\u001b[39mself\u001b[39m, url: \u001b[39mstr\u001b[39m) \u001b[39m-\u001b[39m\u001b[39m>\u001b[39m \u001b[39mNone\u001b[39;00m:\n\u001b[0;32m    444\u001b[0m     \u001b[39m\"\"\"\u001b[39;00m\n\u001b[0;32m    445\u001b[0m \u001b[39m    Loads a web page in the current browser session.\u001b[39;00m\n\u001b[0;32m    446\u001b[0m \u001b[39m    \"\"\"\u001b[39;00m\n\u001b[1;32m--> 447\u001b[0m     \u001b[39mself\u001b[39;49m\u001b[39m.\u001b[39;49mexecute(Command\u001b[39m.\u001b[39;49mGET, {\u001b[39m'\u001b[39;49m\u001b[39murl\u001b[39;49m\u001b[39m'\u001b[39;49m: url})\n",
      "File \u001b[1;32mc:\\Users\\Sveta\\projects\\недвижка парсер\\env\\lib\\site-packages\\selenium\\webdriver\\remote\\webdriver.py:435\u001b[0m, in \u001b[0;36mWebDriver.execute\u001b[1;34m(self, driver_command, params)\u001b[0m\n\u001b[0;32m    433\u001b[0m response \u001b[39m=\u001b[39m \u001b[39mself\u001b[39m\u001b[39m.\u001b[39mcommand_executor\u001b[39m.\u001b[39mexecute(driver_command, params)\n\u001b[0;32m    434\u001b[0m \u001b[39mif\u001b[39;00m response:\n\u001b[1;32m--> 435\u001b[0m     \u001b[39mself\u001b[39;49m\u001b[39m.\u001b[39;49merror_handler\u001b[39m.\u001b[39;49mcheck_response(response)\n\u001b[0;32m    436\u001b[0m     response[\u001b[39m'\u001b[39m\u001b[39mvalue\u001b[39m\u001b[39m'\u001b[39m] \u001b[39m=\u001b[39m \u001b[39mself\u001b[39m\u001b[39m.\u001b[39m_unwrap_value(\n\u001b[0;32m    437\u001b[0m         response\u001b[39m.\u001b[39mget(\u001b[39m'\u001b[39m\u001b[39mvalue\u001b[39m\u001b[39m'\u001b[39m, \u001b[39mNone\u001b[39;00m))\n\u001b[0;32m    438\u001b[0m     \u001b[39mreturn\u001b[39;00m response\n",
      "File \u001b[1;32mc:\\Users\\Sveta\\projects\\недвижка парсер\\env\\lib\\site-packages\\selenium\\webdriver\\remote\\errorhandler.py:247\u001b[0m, in \u001b[0;36mErrorHandler.check_response\u001b[1;34m(self, response)\u001b[0m\n\u001b[0;32m    245\u001b[0m         alert_text \u001b[39m=\u001b[39m value[\u001b[39m'\u001b[39m\u001b[39malert\u001b[39m\u001b[39m'\u001b[39m]\u001b[39m.\u001b[39mget(\u001b[39m'\u001b[39m\u001b[39mtext\u001b[39m\u001b[39m'\u001b[39m)\n\u001b[0;32m    246\u001b[0m     \u001b[39mraise\u001b[39;00m exception_class(message, screen, stacktrace, alert_text)  \u001b[39m# type: ignore[call-arg]  # mypy is not smart enough here\u001b[39;00m\n\u001b[1;32m--> 247\u001b[0m \u001b[39mraise\u001b[39;00m exception_class(message, screen, stacktrace)\n",
      "\u001b[1;31mInvalidArgumentException\u001b[0m: Message: invalid argument\n  (Session info: chrome=105.0.5195.52)\nStacktrace:\nBacktrace:\n\tOrdinal0 [0x00F78823+2197539]\n\tOrdinal0 [0x00F10911+1771793]\n\tOrdinal0 [0x00E23EB0+802480]\n\tOrdinal0 [0x00E173C6+750534]\n\tOrdinal0 [0x00E15ED5+745173]\n\tOrdinal0 [0x00E1619D+745885]\n\tOrdinal0 [0x00E257B4+808884]\n\tOrdinal0 [0x00E7E12D+1171757]\n\tOrdinal0 [0x00E6D65C+1103452]\n\tOrdinal0 [0x00E7DA72+1170034]\n\tOrdinal0 [0x00E6D476+1102966]\n\tOrdinal0 [0x00E47660+947808]\n\tOrdinal0 [0x00E48556+951638]\n\tGetHandleVerifier [0x01221A32+2740578]\n\tGetHandleVerifier [0x01213776+2682534]\n\tGetHandleVerifier [0x0100307A+518058]\n\tGetHandleVerifier [0x01002196+514246]\n\tOrdinal0 [0x00F17ADB+1800923]\n\tOrdinal0 [0x00F1C2E8+1819368]\n\tOrdinal0 [0x00F1C3D5+1819605]\n\tOrdinal0 [0x00F25810+1857552]\n\tBaseThreadInitThunk [0x76326739+25]\n\tRtlGetFullPathName_UEx [0x770F90AF+1215]\n\tRtlGetFullPathName_UEx [0x770F907D+1165]\n"
     ]
    }
   ],
   "source": [
    "prices, metro, size, floor, max_floor, bathroom, renovation, time = get_data_avito(urls_avito)\n"
   ]
  },
  {
   "cell_type": "code",
   "execution_count": null,
   "metadata": {},
   "outputs": [],
   "source": [
    "df = pd.DataFrame({ \n",
    "    'Ссылка' : urls, \n",
    "    'Метро' : metro, \n",
    "    'Время до метро' : time,\n",
    "    'Общая площадь' : size, \n",
    "    'Этаж' : floor,\n",
    "    'Этажность дома' : max_floor,\n",
    "    'Ванная' : bathroom,\n",
    "    'Ремонт': renovation,\n",
    "    'Цена' : prices\n",
    "    })\n",
    "\n",
    "df.to_csv('avito.csv')"
   ]
  },
  {
   "cell_type": "code",
   "execution_count": null,
   "metadata": {},
   "outputs": [],
   "source": []
  },
  {
   "cell_type": "code",
   "execution_count": 44,
   "metadata": {},
   "outputs": [],
   "source": [
    "def extract_data_avito(flat_url):\n",
    "    '''\n",
    "    применяется к каждой отдельной ссылке\n",
    "    на страницу квартиры\n",
    "    '''\n",
    "    html = get_html(flat_url)\n",
    "    soup = BeautifulSoup(html, features='html.parser')\n",
    "    row = []\n",
    "    \n",
    "    # price\n",
    "    try:\n",
    "        row.append(int(soup.find('span', class_='s-item-price style-item-price-text-2u_qK text-text-1PdBw text-size-xxl-1Uoae').get('content')))\n",
    "    except AttributeError:\n",
    "        row.append(None)\n",
    "\n",
    "    \n",
    "    # from uls\n",
    "    area = None\n",
    "    rooms = None\n",
    "    floors = None\n",
    "    house_type = None\n",
    "    constr_date = None\n",
    "    ceiling_height = None\n",
    "\n",
    "    lis = soup.find_all('li', class_='item-params-list-item')\n",
    "    for li in lis:\n",
    "\n",
    "        # area, rooms, floors --- about flat\n",
    "        if li.find('span', class_='item-params-label').get_text() == 'Общая площадь: ':\n",
    "            area = str(li.contents[2]).split()[0]\n",
    "        if li.find('span', class_='item-params-label').get_text() == 'Количество комнат: ':\n",
    "            rooms = str(li.contents[2]).split()[0]\n",
    "        if li.find('span', class_='item-params-label').get_text() == 'Этаж: ':\n",
    "            floors = ' '.join(str(li.contents[2]).split())\n",
    "\n",
    "        # house type, date of construction\n",
    "        if li.find('span', class_='item-params-label').get_text() == 'Тип дома: ':\n",
    "            house_type = str(li.contents[2]).split()[0]\n",
    "        if li.find('span', class_='item-params-label').get_text() == 'Год постройки: ':\n",
    "            constr_date = str(li.contents[2]).split()[0]\n",
    "        if li.find('span', class_='item-params-label').get_text() == 'Срок сдачи: ':\n",
    "            constr_date = ' '.join(str(li.contents[2]).split())\n",
    "        if li.find('span', class_='item-params-label').get_text() == 'Высота потолков: ':\n",
    "            ceiling_height = str(li.contents[2]).split()[0]\n",
    "\n",
    "    for i in [area, rooms, floors, house_type, constr_date, ceiling_height, flat_url]:\n",
    "        row.append(i)\n",
    "\n",
    "    return row"
   ]
  },
  {
   "cell_type": "code",
   "execution_count": 45,
   "metadata": {},
   "outputs": [
    {
     "data": {
      "text/plain": [
       "[None, None, None, None, None]"
      ]
     },
     "execution_count": 45,
     "metadata": {},
     "output_type": "execute_result"
    }
   ],
   "source": [
    "data_avito = extract_data_avito(urls_avito)\n",
    "data_avito[:5]"
   ]
  }
 ],
 "metadata": {
  "kernelspec": {
   "display_name": "Python 3.10.5 ('env': venv)",
   "language": "python",
   "name": "python3"
  },
  "language_info": {
   "codemirror_mode": {
    "name": "ipython",
    "version": 3
   },
   "file_extension": ".py",
   "mimetype": "text/x-python",
   "name": "python",
   "nbconvert_exporter": "python",
   "pygments_lexer": "ipython3",
   "version": "3.10.5"
  },
  "orig_nbformat": 4,
  "vscode": {
   "interpreter": {
    "hash": "bcd1b109ab7924efc8418e8b009d4471f487e05617cd0a33e1c32dde2ae80f29"
   }
  }
 },
 "nbformat": 4,
 "nbformat_minor": 2
}
