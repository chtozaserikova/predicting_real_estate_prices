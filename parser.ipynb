{
 "cells": [
  {
   "cell_type": "code",
   "execution_count": 81,
   "metadata": {},
   "outputs": [
    {
     "name": "stderr",
     "output_type": "stream",
     "text": [
      "ERROR: Could not find a version that satisfies the requirement chromium (from versions: none)\n",
      "ERROR: No matching distribution found for chromium\n",
      "WARNING: You are using pip version 22.0.4; however, version 22.1.2 is available.\n",
      "You should consider upgrading via the 'C:\\Users\\Sveta\\projects\\недвижка парсер\\env\\Scripts\\python.exe -m pip install --upgrade pip' command.\n"
     ]
    }
   ],
   "source": [
    "!pip install chromium"
   ]
  },
  {
   "cell_type": "code",
   "execution_count": 82,
   "metadata": {},
   "outputs": [
    {
     "name": "stderr",
     "output_type": "stream",
     "text": [
      "C:\\Users\\Sveta\\AppData\\Local\\Temp\\ipykernel_15104\\651899051.py:11: DeprecationWarning: executable_path has been deprecated, please pass in a Service object\n",
      "  driver = webdriver.Chrome(chrome_options = options, executable_path='chromedriver.exe')\n",
      "C:\\Users\\Sveta\\AppData\\Local\\Temp\\ipykernel_15104\\651899051.py:11: DeprecationWarning: use options instead of chrome_options\n",
      "  driver = webdriver.Chrome(chrome_options = options, executable_path='chromedriver.exe')\n"
     ]
    }
   ],
   "source": [
    "from selenium import webdriver\n",
    "from bs4 import BeautifulSoup\n",
    "import pandas as pd\n",
    "from tqdm import tqdm\n",
    "import numpy as np\n",
    "# driver = webdriver.Chrome()\n",
    "\n",
    "from selenium.webdriver.chrome.options import Options\n",
    "options = Options()\n",
    "options.binary_location = r\"C:\\Program Files\\Google\\Chrome Beta\\Application\\chrome.exe\"\n",
    "driver = webdriver.Chrome(chrome_options = options, executable_path='chromedriver.exe')"
   ]
  },
  {
   "cell_type": "code",
   "execution_count": 83,
   "metadata": {},
   "outputs": [],
   "source": [
    "def get_html(url, PARAMS = None): \n",
    "    html = driver.page_source\n",
    "    return html\n",
    "\n",
    "def get_content(html): \n",
    "    soup = BeautifulSoup(html, 'html.parser')\n",
    "    items = soup.find_all('article', class_ = '_93444fe79c--container--Povoi')\n",
    "    return items\n",
    "    \n",
    "def get_urls():   \n",
    "    urls = []\n",
    "    params = ['&sort=creation_date_desc', \n",
    "              '&sort=creation_date_asc', \n",
    "              '&sort=price_object_order', \n",
    "              '&sort=total_price_desc', \n",
    "              '&sort=street_name', \n",
    "              '&sort=walking_time']\n",
    "    \n",
    "    for par in tqdm(range(len(params))):\n",
    "        param = params[par] \n",
    "        for i in range(1,55): \n",
    "            URL = driver.get(f'https://www.cian.ru/cat.php?deal_type=rent&engine_version=2&offer_type=flat&p={i}&region=1&room1=1&{param}&type=4')\n",
    "            html = get_html(URL)\n",
    "            items = get_content(html)\n",
    "            for item in items:\n",
    "                urls.append(item.find('a', class_='_93444fe79c--link--eoxce').get('href'))\n",
    "        urls = list(set(urls))\n",
    "    return urls"
   ]
  },
  {
   "cell_type": "code",
   "execution_count": 84,
   "metadata": {},
   "outputs": [],
   "source": [
    "def get_data(urls): \n",
    "    prices, metro, floor, max_floor, size, msize, deadline, bathroom, renovation, time = [], [], [], [], [], [], [], [], [], []\n",
    "    for i in tqdm(range(len(urls))):\n",
    "        url = urls[i]\n",
    "        URL = driver.get(url)\n",
    "        html = get_html(URL)\n",
    "        soup = BeautifulSoup(html, 'html.parser')\n",
    "        try: \n",
    "            price = soup.find('span', class_ = \"a10a3f92e9--price_value--lqIK0\").find('span').get('content')\n",
    "            prices.append(int(price.replace(' ', '').rstrip('₽/мес.')))\n",
    "        except AttributeError: prices.append(np.nan)\n",
    "            \n",
    "        try: metro.append(soup.find('a', class_ = 'a10a3f92e9--underground_link--Sxo7K').get_text())\n",
    "        except AttributeError: metro.append(np.nan)\n",
    "           \n",
    "        try: time.append(int(soup.find('span', class_ = 'a10a3f92e9--underground_time--iOoHy').get_text()[4:6]))\n",
    "        except AttributeError: time.append(np.nan)\n",
    "        except ValueError: time.append(np.nan)\n",
    "         \n",
    "        block1 = soup.find_all('div', class_ = 'a10a3f92e9--info-value--bm3DC')\n",
    "        titles1 = soup.find_all('div', class_ = 'a10a3f92e9--info-title--JWtIm')\n",
    "        \n",
    "        flag = [0,0,0,0]\n",
    "        for i in range(len(titles1)):\n",
    "            if titles1[i].get_text() == 'Общая':\n",
    "                flag[0] = 1\n",
    "                try: size.append(float(block1[i].get_text().rstrip('\\xa0м²').replace(',','.')))\n",
    "                except ValueError: size.append(np.nan)\n",
    "            elif titles1[i].get_text() == 'Жилая':\n",
    "                flag[1] = 1\n",
    "                try: msize.append(float(block1[i].get_text().rstrip('\\xa0м²').replace(',','.')))\n",
    "                except ValueError: msize.append(np.nan)\n",
    "            elif titles1[i].get_text() == 'Этаж':\n",
    "                flag[2] = 1\n",
    "                floors = block1[i].get_text().split(' из ')\n",
    "                floor.append(int(floors[0]))\n",
    "                max_floor.append(int(floors[1]))\n",
    "            elif titles1[i].get_text() == 'Построен' or titles1[i].get_text() == 'Срок сдачи':\n",
    "                flag[3] = 1\n",
    "                deadline.append(int(block1[i].get_text()[-4:]))\n",
    "        if flag[0] == 0:\n",
    "            size.append(np.nan)\n",
    "        if flag[1] == 0:\n",
    "             msize.append(np.nan)\n",
    "        if flag[2] == 0:\n",
    "            floor.append(np.nan)\n",
    "            max_floor.append(np.nan)\n",
    "        if flag[3] == 0:\n",
    "            deadline.append(np.nan)\n",
    "\n",
    "        block2 = soup.find_all('span', class_ = 'a10a3f92e9--value--Y34zN')\n",
    "        titles2 = soup.find_all('span', class_ = 'a10a3f92e9--name--x7_lt')\n",
    "\n",
    "        flag = [0,0,0,0]\n",
    "        for i in range(len(titles2)):\n",
    "            if titles2[i].get_text() == 'Санузел':\n",
    "                flag[0] = 1\n",
    "                bathroom.append(block2[i].get_text())\n",
    "            elif titles2[i].get_text() == 'Ремонт':\n",
    "                flag[1] = 1\n",
    "                renovation.append(block2[i].get_text())\n",
    "        if flag[0] == 0:\n",
    "            bathroom.append(np.nan)\n",
    "        if flag[1] == 0:\n",
    "            renovation.append(np.nan)\n",
    "            \n",
    "        \n",
    "    return prices, metro, size, msize, floor, max_floor, deadline, bathroom, renovation, time"
   ]
  },
  {
   "cell_type": "code",
   "execution_count": 85,
   "metadata": {},
   "outputs": [
    {
     "name": "stderr",
     "output_type": "stream",
     "text": [
      "100%|██████████| 6/6 [14:48<00:00, 148.16s/it]\n"
     ]
    }
   ],
   "source": [
    "urls = get_urls()"
   ]
  },
  {
   "cell_type": "code",
   "execution_count": 86,
   "metadata": {},
   "outputs": [
    {
     "name": "stderr",
     "output_type": "stream",
     "text": [
      "100%|██████████| 5916/5916 [3:54:24<00:00,  2.38s/it]   \n"
     ]
    }
   ],
   "source": [
    "prices, metro, size, msize, floor, max_floor, deadline, bathroom, renovation, time = get_data(urls)"
   ]
  },
  {
   "cell_type": "code",
   "execution_count": 87,
   "metadata": {},
   "outputs": [],
   "source": [
    "df = pd.DataFrame({ \n",
    "    'Ссылка' : urls, \n",
    "    'Метро' : metro, \n",
    "    'Время до метро' : time,\n",
    "    'Общая площадь' : size, \n",
    "    'Жилая площадь' : msize, \n",
    "    'Этаж' : floor,\n",
    "    'Этажность дома' : max_floor,\n",
    "    'Срок сдачи' : deadline,\n",
    "    'Ванная' : bathroom,\n",
    "    'Ремонт': renovation,\n",
    "    'Цена' : prices\n",
    "    })"
   ]
  },
  {
   "cell_type": "code",
   "execution_count": 88,
   "metadata": {},
   "outputs": [],
   "source": [
    "df.to_csv('cian.csv')"
   ]
  }
 ],
 "metadata": {
  "kernelspec": {
   "display_name": "Python 3.10.5 ('env': venv)",
   "language": "python",
   "name": "python3"
  },
  "language_info": {
   "codemirror_mode": {
    "name": "ipython",
    "version": 3
   },
   "file_extension": ".py",
   "mimetype": "text/x-python",
   "name": "python",
   "nbconvert_exporter": "python",
   "pygments_lexer": "ipython3",
   "version": "3.10.5"
  },
  "orig_nbformat": 4,
  "vscode": {
   "interpreter": {
    "hash": "bcd1b109ab7924efc8418e8b009d4471f487e05617cd0a33e1c32dde2ae80f29"
   }
  }
 },
 "nbformat": 4,
 "nbformat_minor": 2
}
