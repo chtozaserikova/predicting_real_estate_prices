{
 "cells": [
  {
   "cell_type": "code",
   "execution_count": 1,
   "metadata": {},
   "outputs": [],
   "source": [
    "import pandas as pd\n",
    "import numpy as np\n",
    "import matplotlib.pyplot as plt\n",
    "from sklearn.preprocessing import LabelEncoder\n",
    "from sklearn.metrics import mean_squared_error as mse\n",
    "%matplotlib inline\n",
    "import plotly.graph_objects as go\n",
    "import plotly.offline as po\n",
    "from sklearn.model_selection import train_test_split, cross_val_score\n",
    "from catboost import CatBoostRegressor\n",
    "\n",
    "import warnings\n",
    "warnings.filterwarnings(\"ignore\")"
   ]
  },
  {
   "cell_type": "code",
   "execution_count": 2,
   "metadata": {},
   "outputs": [
    {
     "data": {
      "text/html": [
       "<div>\n",
       "<style scoped>\n",
       "    .dataframe tbody tr th:only-of-type {\n",
       "        vertical-align: middle;\n",
       "    }\n",
       "\n",
       "    .dataframe tbody tr th {\n",
       "        vertical-align: top;\n",
       "    }\n",
       "\n",
       "    .dataframe thead th {\n",
       "        text-align: right;\n",
       "    }\n",
       "</style>\n",
       "<table border=\"1\" class=\"dataframe\">\n",
       "  <thead>\n",
       "    <tr style=\"text-align: right;\">\n",
       "      <th></th>\n",
       "      <th>Ссылка</th>\n",
       "      <th>Метро</th>\n",
       "      <th>Время до метро</th>\n",
       "      <th>Общая площадь</th>\n",
       "      <th>Этаж</th>\n",
       "      <th>Этажность дома</th>\n",
       "      <th>Ванная</th>\n",
       "      <th>Ремонт</th>\n",
       "      <th>Цена</th>\n",
       "      <th>Цена за метр</th>\n",
       "    </tr>\n",
       "  </thead>\n",
       "  <tbody>\n",
       "    <tr>\n",
       "      <th>0</th>\n",
       "      <td>https://www.cian.ru/rent/flat/275888156/</td>\n",
       "      <td>Киевская</td>\n",
       "      <td>14.0</td>\n",
       "      <td>48.0</td>\n",
       "      <td>2.0</td>\n",
       "      <td>16.0</td>\n",
       "      <td>2</td>\n",
       "      <td>Дизайнерский</td>\n",
       "      <td>53500.0</td>\n",
       "      <td>1115.0</td>\n",
       "    </tr>\n",
       "    <tr>\n",
       "      <th>1</th>\n",
       "      <td>https://www.cian.ru/rent/flat/275245343/</td>\n",
       "      <td>Фили</td>\n",
       "      <td>1.0</td>\n",
       "      <td>38.0</td>\n",
       "      <td>3.0</td>\n",
       "      <td>5.0</td>\n",
       "      <td>1</td>\n",
       "      <td>Косметический</td>\n",
       "      <td>45000.0</td>\n",
       "      <td>1184.0</td>\n",
       "    </tr>\n",
       "    <tr>\n",
       "      <th>2</th>\n",
       "      <td>https://www.cian.ru/rent/flat/169981655/</td>\n",
       "      <td>Борисово</td>\n",
       "      <td>19.0</td>\n",
       "      <td>38.0</td>\n",
       "      <td>17.0</td>\n",
       "      <td>17.0</td>\n",
       "      <td>1</td>\n",
       "      <td>Косметический</td>\n",
       "      <td>42000.0</td>\n",
       "      <td>1105.0</td>\n",
       "    </tr>\n",
       "    <tr>\n",
       "      <th>3</th>\n",
       "      <td>https://www.cian.ru/rent/flat/275528458/</td>\n",
       "      <td>Верхние Лихоборы</td>\n",
       "      <td>3.0</td>\n",
       "      <td>38.0</td>\n",
       "      <td>13.0</td>\n",
       "      <td>17.0</td>\n",
       "      <td>1</td>\n",
       "      <td>Косметический</td>\n",
       "      <td>38000.0</td>\n",
       "      <td>1000.0</td>\n",
       "    </tr>\n",
       "    <tr>\n",
       "      <th>4</th>\n",
       "      <td>https://www.cian.ru/rent/flat/270465897/</td>\n",
       "      <td>Юго-Западная</td>\n",
       "      <td>6.0</td>\n",
       "      <td>38.0</td>\n",
       "      <td>12.0</td>\n",
       "      <td>17.0</td>\n",
       "      <td>1</td>\n",
       "      <td>Косметический</td>\n",
       "      <td>40000.0</td>\n",
       "      <td>1053.0</td>\n",
       "    </tr>\n",
       "    <tr>\n",
       "      <th>...</th>\n",
       "      <td>...</td>\n",
       "      <td>...</td>\n",
       "      <td>...</td>\n",
       "      <td>...</td>\n",
       "      <td>...</td>\n",
       "      <td>...</td>\n",
       "      <td>...</td>\n",
       "      <td>...</td>\n",
       "      <td>...</td>\n",
       "      <td>...</td>\n",
       "    </tr>\n",
       "    <tr>\n",
       "      <th>5110</th>\n",
       "      <td>https://www.cian.ru/rent/flat/226086740/</td>\n",
       "      <td>Прокшино</td>\n",
       "      <td>27.0</td>\n",
       "      <td>40.0</td>\n",
       "      <td>4.0</td>\n",
       "      <td>9.0</td>\n",
       "      <td>1</td>\n",
       "      <td>Евроремонт</td>\n",
       "      <td>38000.0</td>\n",
       "      <td>950.0</td>\n",
       "    </tr>\n",
       "    <tr>\n",
       "      <th>5111</th>\n",
       "      <td>https://www.cian.ru/rent/flat/275315041/</td>\n",
       "      <td>Раменки</td>\n",
       "      <td>4.0</td>\n",
       "      <td>38.0</td>\n",
       "      <td>3.0</td>\n",
       "      <td>17.0</td>\n",
       "      <td>1</td>\n",
       "      <td>Косметический</td>\n",
       "      <td>40000.0</td>\n",
       "      <td>1053.0</td>\n",
       "    </tr>\n",
       "    <tr>\n",
       "      <th>5112</th>\n",
       "      <td>https://www.cian.ru/rent/flat/265486228/</td>\n",
       "      <td>Нагатинская</td>\n",
       "      <td>12.0</td>\n",
       "      <td>50.0</td>\n",
       "      <td>6.0</td>\n",
       "      <td>33.0</td>\n",
       "      <td>1</td>\n",
       "      <td>Дизайнерский</td>\n",
       "      <td>65000.0</td>\n",
       "      <td>1300.0</td>\n",
       "    </tr>\n",
       "    <tr>\n",
       "      <th>5113</th>\n",
       "      <td>https://www.cian.ru/rent/flat/202365764/</td>\n",
       "      <td>Щелковская</td>\n",
       "      <td>25.0</td>\n",
       "      <td>44.0</td>\n",
       "      <td>3.0</td>\n",
       "      <td>14.0</td>\n",
       "      <td>1</td>\n",
       "      <td>Евроремонт</td>\n",
       "      <td>36000.0</td>\n",
       "      <td>818.0</td>\n",
       "    </tr>\n",
       "    <tr>\n",
       "      <th>5114</th>\n",
       "      <td>https://www.cian.ru/rent/flat/263679569/</td>\n",
       "      <td>Филатов Луг</td>\n",
       "      <td>5.0</td>\n",
       "      <td>36.0</td>\n",
       "      <td>12.0</td>\n",
       "      <td>15.0</td>\n",
       "      <td>1</td>\n",
       "      <td>Евроремонт</td>\n",
       "      <td>45000.0</td>\n",
       "      <td>1250.0</td>\n",
       "    </tr>\n",
       "  </tbody>\n",
       "</table>\n",
       "<p>5115 rows × 10 columns</p>\n",
       "</div>"
      ],
      "text/plain": [
       "                                        Ссылка             Метро  \\\n",
       "0     https://www.cian.ru/rent/flat/275888156/          Киевская   \n",
       "1     https://www.cian.ru/rent/flat/275245343/              Фили   \n",
       "2     https://www.cian.ru/rent/flat/169981655/          Борисово   \n",
       "3     https://www.cian.ru/rent/flat/275528458/  Верхние Лихоборы   \n",
       "4     https://www.cian.ru/rent/flat/270465897/      Юго-Западная   \n",
       "...                                        ...               ...   \n",
       "5110  https://www.cian.ru/rent/flat/226086740/          Прокшино   \n",
       "5111  https://www.cian.ru/rent/flat/275315041/           Раменки   \n",
       "5112  https://www.cian.ru/rent/flat/265486228/       Нагатинская   \n",
       "5113  https://www.cian.ru/rent/flat/202365764/        Щелковская   \n",
       "5114  https://www.cian.ru/rent/flat/263679569/       Филатов Луг   \n",
       "\n",
       "      Время до метро  Общая площадь  Этаж  Этажность дома  Ванная  \\\n",
       "0               14.0           48.0   2.0            16.0       2   \n",
       "1                1.0           38.0   3.0             5.0       1   \n",
       "2               19.0           38.0  17.0            17.0       1   \n",
       "3                3.0           38.0  13.0            17.0       1   \n",
       "4                6.0           38.0  12.0            17.0       1   \n",
       "...              ...            ...   ...             ...     ...   \n",
       "5110            27.0           40.0   4.0             9.0       1   \n",
       "5111             4.0           38.0   3.0            17.0       1   \n",
       "5112            12.0           50.0   6.0            33.0       1   \n",
       "5113            25.0           44.0   3.0            14.0       1   \n",
       "5114             5.0           36.0  12.0            15.0       1   \n",
       "\n",
       "             Ремонт     Цена  Цена за метр  \n",
       "0      Дизайнерский  53500.0        1115.0  \n",
       "1     Косметический  45000.0        1184.0  \n",
       "2     Косметический  42000.0        1105.0  \n",
       "3     Косметический  38000.0        1000.0  \n",
       "4     Косметический  40000.0        1053.0  \n",
       "...             ...      ...           ...  \n",
       "5110     Евроремонт  38000.0         950.0  \n",
       "5111  Косметический  40000.0        1053.0  \n",
       "5112   Дизайнерский  65000.0        1300.0  \n",
       "5113     Евроремонт  36000.0         818.0  \n",
       "5114     Евроремонт  45000.0        1250.0  \n",
       "\n",
       "[5115 rows x 10 columns]"
      ]
     },
     "execution_count": 2,
     "metadata": {},
     "output_type": "execute_result"
    }
   ],
   "source": [
    "df = pd.read_csv('clean_cian.csv')\n",
    "df.drop('Unnamed: 0', inplace=True, axis=1)\n",
    "df"
   ]
  },
  {
   "cell_type": "code",
   "execution_count": 3,
   "metadata": {},
   "outputs": [
    {
     "name": "stdout",
     "output_type": "stream",
     "text": [
      "<class 'pandas.core.frame.DataFrame'>\n",
      "RangeIndex: 5115 entries, 0 to 5114\n",
      "Data columns (total 10 columns):\n",
      " #   Column          Non-Null Count  Dtype  \n",
      "---  ------          --------------  -----  \n",
      " 0   Ссылка          5115 non-null   object \n",
      " 1   Метро           5115 non-null   object \n",
      " 2   Время до метро  5115 non-null   float64\n",
      " 3   Общая площадь   5115 non-null   float64\n",
      " 4   Этаж            5115 non-null   float64\n",
      " 5   Этажность дома  5115 non-null   float64\n",
      " 6   Ванная          5115 non-null   int64  \n",
      " 7   Ремонт          5115 non-null   object \n",
      " 8   Цена            5115 non-null   float64\n",
      " 9   Цена за метр    5115 non-null   float64\n",
      "dtypes: float64(6), int64(1), object(3)\n",
      "memory usage: 399.7+ KB\n"
     ]
    }
   ],
   "source": [
    "df.info()"
   ]
  },
  {
   "cell_type": "code",
   "execution_count": 3,
   "metadata": {},
   "outputs": [],
   "source": [
    "X = df.drop(['Ссылка', 'Цена', 'Цена за метр'], axis = 1)\n",
    "y = df['Цена']\n",
    "\n",
    "X_train, X_test, y_train, y_test = train_test_split(X, y, test_size = 0.1, random_state = 42)"
   ]
  },
  {
   "cell_type": "code",
   "execution_count": 4,
   "metadata": {},
   "outputs": [
    {
     "data": {
      "text/plain": [
       "['Метро', 'Ремонт']"
      ]
     },
     "execution_count": 4,
     "metadata": {},
     "output_type": "execute_result"
    }
   ],
   "source": [
    "cat_features = []\n",
    "for col in X.columns:\n",
    "    if X[col].dtype == object:\n",
    "        cat_features.append(col)\n",
    "\n",
    "cat_features"
   ]
  },
  {
   "cell_type": "code",
   "execution_count": 5,
   "metadata": {},
   "outputs": [
    {
     "name": "stdout",
     "output_type": "stream",
     "text": [
      "{'learn': {'RMSE': 111.43740946298499}}\n"
     ]
    }
   ],
   "source": [
    "regr = CatBoostRegressor(iterations = 100000, learning_rate = 0.1, depth = 5, loss_function = 'RMSE', random_state = 42)\n",
    "\n",
    "regr.fit(X_train, y_train, cat_features, verbose = False)\n",
    "print(regr.get_best_score())"
   ]
  },
  {
   "cell_type": "code",
   "execution_count": 14,
   "metadata": {},
   "outputs": [
    {
     "data": {
      "text/plain": [
       "0.223484153318154"
      ]
     },
     "execution_count": 14,
     "metadata": {},
     "output_type": "execute_result"
    }
   ],
   "source": [
    "preds = regr.predict(X_test)\n",
    "np.mean(abs(preds - y_test)/y_test)"
   ]
  },
  {
   "cell_type": "code",
   "execution_count": 11,
   "metadata": {},
   "outputs": [],
   "source": [
    "regr.save_model('catboost',\n",
    "           format=\"cbm\", #for mac coreml\n",
    "           export_parameters=None,\n",
    "           pool=None)"
   ]
  }
 ],
 "metadata": {
  "kernelspec": {
   "display_name": "Python 3.10.5 ('env': venv)",
   "language": "python",
   "name": "python3"
  },
  "language_info": {
   "codemirror_mode": {
    "name": "ipython",
    "version": 3
   },
   "file_extension": ".py",
   "mimetype": "text/x-python",
   "name": "python",
   "nbconvert_exporter": "python",
   "pygments_lexer": "ipython3",
   "version": "3.10.5"
  },
  "orig_nbformat": 4,
  "vscode": {
   "interpreter": {
    "hash": "bcd1b109ab7924efc8418e8b009d4471f487e05617cd0a33e1c32dde2ae80f29"
   }
  }
 },
 "nbformat": 4,
 "nbformat_minor": 2
}
